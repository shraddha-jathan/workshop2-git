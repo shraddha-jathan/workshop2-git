{
 "cells": [
  {
   "cell_type": "code",
   "execution_count": 1,
   "metadata": {},
   "outputs": [
    {
     "name": "stdout",
     "output_type": "stream",
     "text": [
      "enter your nameshraddha\n"
     ]
    }
   ],
   "source": [
    "a=input(\"enter your name\")"
   ]
  },
  {
   "cell_type": "code",
   "execution_count": 5,
   "metadata": {},
   "outputs": [
    {
     "name": "stdout",
     "output_type": "stream",
     "text": [
      "5\n"
     ]
    }
   ],
   "source": [
    "if (a==2):\n",
    "    print(2+2)\n",
    "elif (a==3):\n",
    "    print(3)\n",
    "elif(a==4):\n",
    "    print(4)\n",
    "else:\n",
    "    print(5)\n"
   ]
  },
  {
   "cell_type": "code",
   "execution_count": 6,
   "metadata": {},
   "outputs": [
    {
     "name": "stdout",
     "output_type": "stream",
     "text": [
      "enter a number3\n",
      "false\n",
      "the type of a is  <class 'str'>\n",
      "the type of a is  <class 'bool'>\n",
      "the type of a is  <class 'int'>\n",
      "the type of a is  <class 'NoneType'>\n"
     ]
    }
   ],
   "source": [
    "a=\"HI\"\n",
    "b=True\n",
    "c=20\n",
    "d=None\n",
    "e=int(input(\"enter a number\"))\n",
    "if (e==1):\n",
    "    print(\"True\")\n",
    "else:\n",
    "    print(\"false\")\n",
    "print(\"the type of a is \",type(a))\n",
    "print(\"the type of a is \",type(b))a=in\n",
    "print(\"the type of a is \",type(c))\n",
    "print(\"the type of a is \",type(d))\n",
    "\n",
    "        \n"
   ]
  },
  {
   "cell_type": "code",
   "execution_count": null,
   "metadata": {},
   "outputs": [],
   "source": [
    "a=int(input(\"enter first number\"))\n",
    "b=int(input(\"enter second number\"))\n",
    "c=input(\"enter the operator\")\n",
    "if c=='+':\n",
    "    print(\"addition of a and b\",a+b)\n",
    "elif c='-':\n",
    "    print(\"subtraction of a and b\",a-b)\n",
    "elif c=='*':\n",
    "    print(\"multiplication of a and b\",a*b)\n",
    "elif c=='%':\n",
    "    print(\"modulus of a and b\",a+b)\n",
    "else:\n",
    "    results=\"invalid operation\"\n",
    "print(\"result:\",result)\n",
    "    \n",
    "    \n",
    "        \n",
    "        \n"
   ]
  },
  {
   "cell_type": "code",
   "execution_count": null,
   "metadata": {
    "collapsed": true
   },
   "outputs": [],
   "source": []
  }
 ],
 "metadata": {
  "kernelspec": {
   "display_name": "Python 3",
   "language": "python",
   "name": "python3"
  },
  "language_info": {
   "codemirror_mode": {
    "name": "ipython",
    "version": 3
   },
   "file_extension": ".py",
   "mimetype": "text/x-python",
   "name": "python",
   "nbconvert_exporter": "python",
   "pygments_lexer": "ipython3",
   "version": "3.6.3"
  }
 },
 "nbformat": 4,
 "nbformat_minor": 2
}
